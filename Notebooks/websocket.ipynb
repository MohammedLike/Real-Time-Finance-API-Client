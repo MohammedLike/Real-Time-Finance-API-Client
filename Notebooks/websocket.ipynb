{
 "cells": [
  {
   "cell_type": "code",
   "execution_count": 6,
   "id": "3544f6b7",
   "metadata": {},
   "outputs": [
    {
     "data": {
      "text/plain": [
       "True"
      ]
     },
     "execution_count": 6,
     "metadata": {},
     "output_type": "execute_result"
    }
   ],
   "source": [
    "import websocket\n",
    "import json\n",
    "import os\n",
    "\n",
    "\n",
    "API_KEY = os.getenv(\"FINNHUB_API_KEY\")\n",
    "\n",
    "def on_message(ws, message):\n",
    "    print(\"Real-time update:\", message)\n",
    "\n",
    "def on_open(ws):\n",
    "    print(\"Connected to WebSocket\")\n",
    "    ws.send(json.dumps({\n",
    "        \"type\": \"subscribe\",\n",
    "        \"symbol\": \"AAPL\"\n",
    "    }))\n",
    "\n",
    "ws = websocket.WebSocketApp(f\"wss://ws.finnhub.io?token={API_KEY}\",\n",
    "                            on_open=on_open,\n",
    "                            on_message=on_message)\n",
    "ws.run_forever()\n"
   ]
  },
  {
   "cell_type": "code",
   "execution_count": 8,
   "id": "28e504ec",
   "metadata": {},
   "outputs": [],
   "source": [
    "def on_message(ws, message):\n",
    "    msg = json.loads(message)\n",
    "    if msg['type'] == 'trade':\n",
    "        for trade in msg['data']:\n",
    "            print(f\"{trade['s']} | Price: {trade['p']} | Volume: {trade['v']}\")\n"
   ]
  },
  {
   "cell_type": "code",
   "execution_count": null,
   "id": "805f05f8",
   "metadata": {},
   "outputs": [],
   "source": []
  }
 ],
 "metadata": {
  "kernelspec": {
   "display_name": "Python 3",
   "language": "python",
   "name": "python3"
  },
  "language_info": {
   "codemirror_mode": {
    "name": "ipython",
    "version": 3
   },
   "file_extension": ".py",
   "mimetype": "text/x-python",
   "name": "python",
   "nbconvert_exporter": "python",
   "pygments_lexer": "ipython3",
   "version": "3.10.11"
  }
 },
 "nbformat": 4,
 "nbformat_minor": 5
}
